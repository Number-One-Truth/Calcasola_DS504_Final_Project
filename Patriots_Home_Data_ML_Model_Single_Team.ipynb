{
 "cells": [
  {
   "cell_type": "markdown",
   "id": "aa50a7b8-72f9-4fd9-a689-c6d687b9d163",
   "metadata": {},
   "source": [
    "## Import Libraries"
   ]
  },
  {
   "cell_type": "code",
   "execution_count": 1,
   "id": "06a4fd11-6bbd-43bb-88ad-d0a89794471b",
   "metadata": {},
   "outputs": [],
   "source": [
    "import numpy as np\n",
    "import pandas as pd\n",
    "from sklearn.model_selection import train_test_split\n",
    "from sklearn.ensemble import HistGradientBoostingClassifier\n",
    "from sklearn.ensemble import GradientBoostingClassifier\n",
    "from sklearn.ensemble import RandomForestClassifier\n",
    "from sklearn.preprocessing import OneHotEncoder\n",
    "from sklearn import metrics\n",
    "from IPython.core.display import HTML\n",
    "import matplotlib.pyplot as plt"
   ]
  },
  {
   "cell_type": "markdown",
   "id": "b87b3324-5e51-4d6a-af4f-e38832169dfc",
   "metadata": {
    "tags": []
   },
   "source": [
    "### Load the data from CSV file"
   ]
  },
  {
   "cell_type": "code",
   "execution_count": 2,
   "id": "1e6be7d1-5200-44cd-a9cb-30590df8b3d3",
   "metadata": {},
   "outputs": [],
   "source": [
    "data_raw = pd.read_csv('Formatted_Data_Numerical\\Patriots_Home_Data_Formatted_Numerical.csv')"
   ]
  },
  {
   "cell_type": "code",
   "execution_count": 3,
   "id": "7a9abb38-eb75-4487-b2ba-0777805576f4",
   "metadata": {},
   "outputs": [],
   "source": [
    "#data_raw.head(10)"
   ]
  },
  {
   "cell_type": "markdown",
   "id": "874886c1-a726-4dd3-87df-13810d34fa7e",
   "metadata": {
    "tags": []
   },
   "source": [
    "### Check the Column Types"
   ]
  },
  {
   "cell_type": "code",
   "execution_count": 4,
   "id": "6676f555-0d46-49ca-a014-c086b574132b",
   "metadata": {},
   "outputs": [],
   "source": [
    "#data_raw.dtypes"
   ]
  },
  {
   "cell_type": "markdown",
   "id": "82930b54-2000-4d88-bf05-8f736dcda781",
   "metadata": {
    "tags": []
   },
   "source": [
    "### Secondary Cleaning and Filtering"
   ]
  },
  {
   "cell_type": "code",
   "execution_count": 5,
   "id": "d9e90af0-b9d4-4621-8688-5bf75d82f424",
   "metadata": {},
   "outputs": [],
   "source": [
    "data_clean = data_raw.drop(columns = ['Play_ID', 'Table Names', 'Table Names-1', 'home_team', 'game_date', 'roof', 'surface', 'temp', 'yrdln', 'Team_Del', 'Yards_Del', 'posteam', 'season_type', 'Dist_To_Endzone'])"
   ]
  },
  {
   "cell_type": "code",
   "execution_count": 6,
   "id": "19b06804-c87b-41bd-bb06-f381668701e4",
   "metadata": {},
   "outputs": [
    {
     "data": {
      "text/plain": [
       "(15569, 16)"
      ]
     },
     "execution_count": 6,
     "metadata": {},
     "output_type": "execute_result"
    }
   ],
   "source": [
    "data_clean.shape"
   ]
  },
  {
   "cell_type": "markdown",
   "id": "b344b784-5b1b-46c2-8f6b-0826670810fc",
   "metadata": {
    "tags": []
   },
   "source": [
    "### Picking Team"
   ]
  },
  {
   "cell_type": "code",
   "execution_count": 7,
   "id": "e88cd5f1-2e85-4d14-811d-a325244b42ed",
   "metadata": {},
   "outputs": [],
   "source": [
    "TEAMNAME = 'TEN'\n",
    "data_clean = data_clean[data_clean['away_team'] == TEAMNAME]"
   ]
  },
  {
   "cell_type": "code",
   "execution_count": 8,
   "id": "ee0705f1-d526-4e28-8aa3-9dc728de1f3b",
   "metadata": {},
   "outputs": [
    {
     "data": {
      "text/plain": [
       "(500, 16)"
      ]
     },
     "execution_count": 8,
     "metadata": {},
     "output_type": "execute_result"
    }
   ],
   "source": [
    "data_clean.shape"
   ]
  },
  {
   "cell_type": "markdown",
   "id": "31218305-31c3-44d4-9df4-4ce4c3c0be9a",
   "metadata": {
    "jp-MarkdownHeadingCollapsed": true,
    "tags": []
   },
   "source": [
    "### Split Data Into X and Y"
   ]
  },
  {
   "cell_type": "code",
   "execution_count": 9,
   "id": "5bf28b85-8b18-4cc5-8a08-8bb8c57c74ac",
   "metadata": {},
   "outputs": [],
   "source": [
    "X = data_clean.drop(columns = ['play_type_nfl', 'away_team'])"
   ]
  },
  {
   "cell_type": "code",
   "execution_count": 10,
   "id": "f5c6253b-e2f4-4cab-a9fb-29cdafb98e0d",
   "metadata": {},
   "outputs": [],
   "source": [
    "Y = data_clean['play_type_nfl']"
   ]
  },
  {
   "cell_type": "markdown",
   "id": "3d6dc12a-e568-424b-8f17-caa4aa22ebb4",
   "metadata": {
    "tags": []
   },
   "source": [
    "### Split Data Into Test and Training Set"
   ]
  },
  {
   "cell_type": "code",
   "execution_count": 11,
   "id": "fed65839-5a68-4d3e-88ab-c6715e7ebb07",
   "metadata": {},
   "outputs": [],
   "source": [
    "X_train, X_test, y_train, y_test = train_test_split(X, Y, test_size= 0.2, random_state= 50)"
   ]
  },
  {
   "cell_type": "code",
   "execution_count": 12,
   "id": "92e1ed93-f78f-4412-95b8-1010bd34cce1",
   "metadata": {},
   "outputs": [
    {
     "name": "stdout",
     "output_type": "stream",
     "text": [
      "X Train Shape:(400, 14)\n",
      "X Test Shape:(100, 14)\n"
     ]
    }
   ],
   "source": [
    "print(\"X Train Shape:\" + str(X_train.shape))\n",
    "print(\"X Test Shape:\" + str(X_test.shape))"
   ]
  },
  {
   "cell_type": "code",
   "execution_count": 13,
   "id": "5111502e-e56c-4284-8b10-9315c47bb224",
   "metadata": {},
   "outputs": [
    {
     "data": {
      "text/plain": [
       "week                           int64\n",
       "yardline_100                 float64\n",
       "quarter_seconds_remaining    float64\n",
       "half_seconds_remaining       float64\n",
       "game_seconds_remaining       float64\n",
       "drive                        float64\n",
       "qtr                            int64\n",
       "down                         float64\n",
       "goal_to_go                     int64\n",
       "ydstogo                        int64\n",
       "home_timeouts_remaining        int64\n",
       "away_timeouts_remaining        int64\n",
       "score_differential           float64\n",
       "drive_play_count             float64\n",
       "dtype: object"
      ]
     },
     "execution_count": 13,
     "metadata": {},
     "output_type": "execute_result"
    }
   ],
   "source": [
    "X_train.dtypes"
   ]
  },
  {
   "cell_type": "code",
   "execution_count": 14,
   "id": "0ce3d63f-e757-4970-b545-7ef236b5c4c9",
   "metadata": {},
   "outputs": [],
   "source": [
    "#categorical_features = ['away_team', 'season_type', 'posteam', 'side_of_field', 'end_yard_line']\n",
    "#categorical_features = ['away_team']\n",
    "#cat_features_int = [0,1,3,4,17]\n",
    "#cat_features_bool = [True,True,False,True,True,False,False,False,False,False,False,False,False,False,False,False,False,True,False]"
   ]
  },
  {
   "cell_type": "markdown",
   "id": "4043ffb6-6bd4-435b-875f-671f7a03934a",
   "metadata": {
    "jp-MarkdownHeadingCollapsed": true,
    "tags": []
   },
   "source": [
    "### Create Model"
   ]
  },
  {
   "cell_type": "code",
   "execution_count": 15,
   "id": "0c7c1c60-767a-41ee-b193-f79647515d73",
   "metadata": {},
   "outputs": [],
   "source": [
    "gbm = HistGradientBoostingClassifier(random_state= 46, learning_rate= 0.01, max_depth= 8, min_samples_leaf= 20, max_iter= 100, max_leaf_nodes= 30, verbose= 0)"
   ]
  },
  {
   "cell_type": "code",
   "execution_count": 16,
   "id": "eb856557-69d4-499e-b12e-3b9b28adc9a4",
   "metadata": {},
   "outputs": [],
   "source": [
    "gbm = gbm.fit(X_train, y_train)"
   ]
  },
  {
   "cell_type": "markdown",
   "id": "dde41243-d92a-44e7-8a6d-57301946af24",
   "metadata": {
    "jp-MarkdownHeadingCollapsed": true,
    "tags": []
   },
   "source": [
    "### Test Model"
   ]
  },
  {
   "cell_type": "code",
   "execution_count": 17,
   "id": "bc7d598a-eb76-4ceb-b9f7-216442e5f4b4",
   "metadata": {},
   "outputs": [],
   "source": [
    "pred_test = gbm.predict(X_test)"
   ]
  },
  {
   "cell_type": "markdown",
   "id": "c71f2c77-56a9-45c9-996f-d3ad74c6c02b",
   "metadata": {
    "tags": []
   },
   "source": [
    "### Evaluate Model"
   ]
  },
  {
   "cell_type": "code",
   "execution_count": 18,
   "id": "3e3bcec6-cb98-4a3f-a0f4-5a6a51d00b99",
   "metadata": {},
   "outputs": [
    {
     "data": {
      "text/plain": [
       "'74.00'"
      ]
     },
     "execution_count": 18,
     "metadata": {},
     "output_type": "execute_result"
    }
   ],
   "source": [
    "model_accuracy_percentage = metrics.accuracy_score(y_test, pred_test)*100\n",
    "model_accuracy_percentage = \"{:.2f}\".format(model_accuracy_percentage)\n",
    "model_accuracy_percentage"
   ]
  },
  {
   "cell_type": "code",
   "execution_count": 19,
   "id": "65c8f9ac-c8f4-4876-beeb-2b948d18f0d4",
   "metadata": {},
   "outputs": [
    {
     "name": "stdout",
     "output_type": "stream",
     "text": [
      "The model accuracy for predicting play calls at home against TEN is 74.00%\n"
     ]
    }
   ],
   "source": [
    "print(\"The model accuracy for predicting play calls at home against \" + str(TEAMNAME) + \" is \" + model_accuracy_percentage + \"%\")"
   ]
  },
  {
   "cell_type": "markdown",
   "id": "c0a56a78-1cb6-4fd1-8a07-471612142a22",
   "metadata": {
    "tags": []
   },
   "source": [
    "### View Predictions"
   ]
  },
  {
   "cell_type": "code",
   "execution_count": 20,
   "id": "5b31df76-9659-43e0-9428-0bf02382216b",
   "metadata": {},
   "outputs": [
    {
     "data": {
      "text/html": [
       "<div>\n",
       "<style scoped>\n",
       "    .dataframe tbody tr th:only-of-type {\n",
       "        vertical-align: middle;\n",
       "    }\n",
       "\n",
       "    .dataframe tbody tr th {\n",
       "        vertical-align: top;\n",
       "    }\n",
       "\n",
       "    .dataframe thead th {\n",
       "        text-align: right;\n",
       "    }\n",
       "</style>\n",
       "<table border=\"1\" class=\"dataframe\">\n",
       "  <thead>\n",
       "    <tr style=\"text-align: right;\">\n",
       "      <th></th>\n",
       "      <th>Y_Test</th>\n",
       "      <th>Model Predictions</th>\n",
       "    </tr>\n",
       "  </thead>\n",
       "  <tbody>\n",
       "    <tr>\n",
       "      <th>10460</th>\n",
       "      <td>PUNT</td>\n",
       "      <td>PUNT</td>\n",
       "    </tr>\n",
       "    <tr>\n",
       "      <th>11965</th>\n",
       "      <td>KICK_OFF</td>\n",
       "      <td>KICK_OFF</td>\n",
       "    </tr>\n",
       "    <tr>\n",
       "      <th>14917</th>\n",
       "      <td>RUSH</td>\n",
       "      <td>RUSH</td>\n",
       "    </tr>\n",
       "    <tr>\n",
       "      <th>10483</th>\n",
       "      <td>PASS</td>\n",
       "      <td>PASS</td>\n",
       "    </tr>\n",
       "    <tr>\n",
       "      <th>10474</th>\n",
       "      <td>PASS</td>\n",
       "      <td>PASS</td>\n",
       "    </tr>\n",
       "    <tr>\n",
       "      <th>...</th>\n",
       "      <td>...</td>\n",
       "      <td>...</td>\n",
       "    </tr>\n",
       "    <tr>\n",
       "      <th>5144</th>\n",
       "      <td>RUSH</td>\n",
       "      <td>RUSH</td>\n",
       "    </tr>\n",
       "    <tr>\n",
       "      <th>5131</th>\n",
       "      <td>PASS</td>\n",
       "      <td>RUSH</td>\n",
       "    </tr>\n",
       "    <tr>\n",
       "      <th>3013</th>\n",
       "      <td>RUSH</td>\n",
       "      <td>RUSH</td>\n",
       "    </tr>\n",
       "    <tr>\n",
       "      <th>5116</th>\n",
       "      <td>RUSH</td>\n",
       "      <td>RUSH</td>\n",
       "    </tr>\n",
       "    <tr>\n",
       "      <th>6863</th>\n",
       "      <td>PASS</td>\n",
       "      <td>RUSH</td>\n",
       "    </tr>\n",
       "  </tbody>\n",
       "</table>\n",
       "<p>100 rows × 2 columns</p>\n",
       "</div>"
      ],
      "text/plain": [
       "         Y_Test Model Predictions\n",
       "10460      PUNT              PUNT\n",
       "11965  KICK_OFF          KICK_OFF\n",
       "14917      RUSH              RUSH\n",
       "10483      PASS              PASS\n",
       "10474      PASS              PASS\n",
       "...         ...               ...\n",
       "5144       RUSH              RUSH\n",
       "5131       PASS              RUSH\n",
       "3013       RUSH              RUSH\n",
       "5116       RUSH              RUSH\n",
       "6863       PASS              RUSH\n",
       "\n",
       "[100 rows x 2 columns]"
      ]
     },
     "execution_count": 20,
     "metadata": {},
     "output_type": "execute_result"
    }
   ],
   "source": [
    "predictions = pd.DataFrame({'Y_Test': y_test, 'Model Predictions': pred_test})\n",
    "predictions"
   ]
  },
  {
   "cell_type": "markdown",
   "id": "94c8d32d-a801-427e-92d4-d095eb41dec1",
   "metadata": {
    "tags": []
   },
   "source": [
    "### Predict Play Call Based On Current Game Status"
   ]
  },
  {
   "cell_type": "code",
   "execution_count": 21,
   "id": "14d1c4e0-6094-4f44-bb54-ee2d12b7e3c6",
   "metadata": {},
   "outputs": [],
   "source": [
    "# Enter Week Number (1 Through 22 With Weeks 18-22 Being Post Season Games)\n",
    "WEEK = 5\n",
    "\n",
    "# Enter Distance to Endzone in Yards(1-100)\n",
    "DISTANCE_TO_ENDZONE = 20\n",
    "\n",
    "# Enter Game Seconds Remaining (1-3600)\n",
    "GAME_SECONDS_REMAINING = 600\n",
    "\n",
    "# Enter Quarter Number (1-4 or 5 for Overtime)\n",
    "QUARTER = 4\n",
    "\n",
    "# Enter Down Number (1-4)\n",
    "DOWN = 3\n",
    "\n",
    "# Enter Yards to Go (1-100)\n",
    "YARDS_TO_GO = 12\n",
    "\n",
    "# Enter if it is Goal to Go (1 Means Yes Goal to Go, 0 Means No Goal to Go)\n",
    "GOAL_TO_GO = 0\n",
    "\n",
    "# Enter Drive Number (Which Drive is it)\n",
    "DRIVE_NUMBER = 5\n",
    "\n",
    "# Enter Drive Play Count (Number of Plays in the Current Drive)\n",
    "DRIVE_PLAY_COUNT = 10\n",
    "\n",
    "# Enter Patriots Timeouts Remaining (0-3)\n",
    "PATS_TIMEOUTS_REMAINING = 3\n",
    "\n",
    "# Enter Opponent Timeouts Remaining (0-3)\n",
    "OPPONENT_TIMEOUTS_REMAINING = 3\n",
    "\n",
    "# Enter Patriots Score\n",
    "PATS_SCORE = 10\n",
    "\n",
    "# Enter Opponent Team Score\n",
    "OPPONENT_SCORE = 20"
   ]
  },
  {
   "cell_type": "code",
   "execution_count": 31,
   "id": "25cbb3c5-4f5e-4f00-ad8b-3d30ecc96e71",
   "metadata": {},
   "outputs": [],
   "source": [
    "WEEK = 5\n",
    "DISTANCE_TO_ENDZONE = 20\n",
    "GAME_SECONDS_REMAINING = 600\n",
    "QUARTER = 4\n",
    "DOWN = 3\n",
    "YARDS_TO_GO = 12\n",
    "GOAL_TO_GO = 0\n",
    "DRIVE_NUMBER = 5\n",
    "DRIVE_PLAY_COUNT = 10\n",
    "PATS_TIMEOUTS_REMAINING = 3\n",
    "OPPONENT_TIMEOUTS_REMAINING = 3\n",
    "PATS_SCORE = 10\n",
    "OPPONENT_SCORE = 20"
   ]
  },
  {
   "cell_type": "markdown",
   "id": "7411f6f6-2886-4790-8796-8cc4798f53d2",
   "metadata": {
    "tags": []
   },
   "source": [
    "### Calculate Other Fields"
   ]
  },
  {
   "cell_type": "code",
   "execution_count": 32,
   "id": "79efbca6-7c1a-46d9-9c68-f6bc1695171f",
   "metadata": {},
   "outputs": [],
   "source": [
    "# Calculate Half Seconds Left\n",
    "if GAME_SECONDS_REMAINING <= 1800:\n",
    "    HALF_SECONDS_REMAINING = GAME_SECONDS_REMAINING\n",
    "else:\n",
    "    HALF_SECONDS_REMAINING = (GAME_SECONDS_REMAINING - 1800)"
   ]
  },
  {
   "cell_type": "code",
   "execution_count": 33,
   "id": "05b17e7c-2b2e-400e-9fcc-3e06026fe1a5",
   "metadata": {},
   "outputs": [],
   "source": [
    "# Calculate Quarter Seconds Left\n",
    "if GAME_SECONDS_REMAINING <= 900:\n",
    "    QUARTER_SECONDS_REMAINING = GAME_SECONDS_REMAINING\n",
    "elif GAME_SECONDS_REMAINING > 900 and GAME_SECONDS_REMAINING <= 1800:\n",
    "    QUARTER_SECONDS_REMAINING = (GAME_SECONDS_REMAINING - 900)\n",
    "elif GAME_SECONDS_REMAINING > 1800 and GAME_SECONDS_REMAINING <= 2700:\n",
    "    QUARTER_SECONDS_REMAINING = (GAME_SECONDS_REMAINING - 1800)\n",
    "else:\n",
    "    QUARTER_SECONDS_REMAINING = (GAME_SECONDS_REMAINING - 2700)"
   ]
  },
  {
   "cell_type": "code",
   "execution_count": 34,
   "id": "ba518c83-44ed-40ea-9b07-5863bd356ef3",
   "metadata": {},
   "outputs": [],
   "source": [
    "# Calculate Score Differential\n",
    "SCORE_DIFFERENTIAL = OPPONENT_SCORE - PATS_SCORE"
   ]
  },
  {
   "cell_type": "code",
   "execution_count": 35,
   "id": "9e011462-3d62-456d-a6d6-d0f193ba74f5",
   "metadata": {},
   "outputs": [],
   "source": [
    "#QUARTER_SECONDS_REMAINING"
   ]
  },
  {
   "cell_type": "code",
   "execution_count": 36,
   "id": "769079ab-38bf-4b09-b333-700877a39ad9",
   "metadata": {},
   "outputs": [],
   "source": [
    "#HALF_SECONDS_REMAINING"
   ]
  },
  {
   "cell_type": "code",
   "execution_count": 37,
   "id": "fe8f54fb-2a3b-469b-b47d-deef7c690ee6",
   "metadata": {},
   "outputs": [],
   "source": [
    "#SCORE_DIFFERENTIAL"
   ]
  },
  {
   "cell_type": "markdown",
   "id": "f81bb798-6fd9-4784-9784-3d0b862dded1",
   "metadata": {
    "tags": []
   },
   "source": [
    "### Predict Play on Model"
   ]
  },
  {
   "cell_type": "code",
   "execution_count": 38,
   "id": "4354aa3c-50aa-4cf7-b65b-eb572474b929",
   "metadata": {},
   "outputs": [],
   "source": [
    "TEST_PLAY = {'week': [WEEK], 'yardline_100': [DISTANCE_TO_ENDZONE], 'quarter_seconds_remaining': [QUARTER_SECONDS_REMAINING], 'half_seconds_remaining': [HALF_SECONDS_REMAINING], 'game_seconds_remaining': [GAME_SECONDS_REMAINING], 'drive': [DRIVE_NUMBER], 'qtr': [QUARTER], 'down': [DOWN], 'goal_to_go': [GOAL_TO_GO], 'ydstogo': [YARDS_TO_GO], 'home_timeouts_remaining': [PATS_TIMEOUTS_REMAINING], 'away_timeouts_remaining': [OPPONENT_TIMEOUTS_REMAINING], 'score_differential': [SCORE_DIFFERENTIAL], 'drive_play_count': [DRIVE_PLAY_COUNT]}\n",
    "TEST_PLAY = pd.DataFrame(TEST_PLAY)"
   ]
  },
  {
   "cell_type": "code",
   "execution_count": 39,
   "id": "d20d6d22-dd49-4bfc-9cfd-e74471f5a6d2",
   "metadata": {},
   "outputs": [],
   "source": [
    "#TEST_PLAY.dtypes"
   ]
  },
  {
   "cell_type": "code",
   "execution_count": 40,
   "id": "cc2972b5-6f11-4cf0-afb4-8b2e376f70e7",
   "metadata": {},
   "outputs": [
    {
     "name": "stdout",
     "output_type": "stream",
     "text": [
      "['The model predicts this TEN play will be a PASS']\n"
     ]
    }
   ],
   "source": [
    "PLAY_PREDICTION = gbm.predict(TEST_PLAY)\n",
    "print(\"The model predicts this \" + str(TEAMNAME) + \" play will be a \" + PLAY_PREDICTION)"
   ]
  },
  {
   "cell_type": "code",
   "execution_count": null,
   "id": "a2c11996-524e-4112-9c42-ac264759fe17",
   "metadata": {},
   "outputs": [],
   "source": []
  }
 ],
 "metadata": {
  "kernelspec": {
   "display_name": "Python 3 (ipykernel)",
   "language": "python",
   "name": "python3"
  },
  "language_info": {
   "codemirror_mode": {
    "name": "ipython",
    "version": 3
   },
   "file_extension": ".py",
   "mimetype": "text/x-python",
   "name": "python",
   "nbconvert_exporter": "python",
   "pygments_lexer": "ipython3",
   "version": "3.9.13"
  }
 },
 "nbformat": 4,
 "nbformat_minor": 5
}
